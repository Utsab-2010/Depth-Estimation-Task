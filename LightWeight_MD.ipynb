{
 "cells": [
  {
   "cell_type": "code",
   "execution_count": 1,
   "id": "662b8af4",
   "metadata": {},
   "outputs": [],
   "source": [
    "import torch\n",
    "import torch.nn as nn\n"
   ]
  },
  {
   "cell_type": "code",
   "execution_count": 2,
   "id": "e3a1a120",
   "metadata": {},
   "outputs": [],
   "source": [
    "\n",
    "class Bottleneck(nn.Module):\n",
    "    def __init__(self, in_channels, out_channels, stride):\n",
    "        super().__init__()\n",
    "        # Typical MobileNetV2 bottleneck: expansion, depthwise, pointwise\n",
    "        self.block = nn.Sequential(\n",
    "            nn.Conv2d(in_channels, in_channels*6, 1), nn.ReLU6(),\n",
    "            nn.Conv2d(in_channels*6, in_channels*6, 3, stride, 1, groups=in_channels*6), nn.ReLU6(),\n",
    "            nn.Conv2d(in_channels*6, out_channels, 1)\n",
    "        )\n",
    "    def forward(self, x):\n",
    "        return self.block(x)\n"
   ]
  },
  {
   "cell_type": "code",
   "execution_count": null,
   "id": "66a2c9a3",
   "metadata": {},
   "outputs": [],
   "source": [
    "\n",
    "class Encoder(nn.Module):\n",
    "    def __init__(self):\n",
    "        super().__init__()\n",
    "        self.initial = nn.Conv2d(3, 32, 3, stride=2, padding=1) # starting conv\n",
    "        # Add bottleneck layers as specified\n",
    "        self.bottlenecks = nn.Sequential(\n",
    "            Bottleneck(32, 16, 1),\n",
    "            Bottleneck(16, 24, 2),\n",
    "            # ... (continue according to architecture diagram)\n",
    "        )\n",
    "    def forward(self, x):\n",
    "        x = self.initial(x)\n",
    "        # Keep outputs for skip connections\n",
    "        skips = []\n",
    "        for layer in self.bottlenecks:\n",
    "            x = layer(x)\n",
    "            skips.append(x)\n",
    "        return x, skips\n"
   ]
  },
  {
   "cell_type": "code",
   "execution_count": null,
   "id": "75a8b79c",
   "metadata": {},
   "outputs": [],
   "source": [
    "\n",
    "class PixelShuffleBlock(nn.Module):\n",
    "    def __init__(self, in_channels, out_channels, upscale=2):\n",
    "        super().__init__()\n",
    "        self.conv = nn.Conv2d(in_channels, out_channels * (upscale**2), 1)\n",
    "        self.pixel_shuffle = nn.PixelShuffle(upscale)\n",
    "    def forward(self, x):\n",
    "        x = self.conv(x)\n",
    "        return self.pixel_shuffle(x)\n"
   ]
  },
  {
   "cell_type": "code",
   "execution_count": null,
   "id": "c3f15b4f",
   "metadata": {},
   "outputs": [],
   "source": [
    "\n",
    "class DecoderBlock(nn.Module):\n",
    "    def __init__(self, in_channels, out_channels, num_bottlenecks, upscale=2):\n",
    "        super().__init__()\n",
    "        self.pixel_shuffle = PixelShuffleBlock(in_channels, out_channels, upscale)\n",
    "        self.bottlenecks = nn.Sequential(\n",
    "            *[Bottleneck(out_channels, out_channels, 1) for _ in range(num_bottlenecks)]\n",
    "        )\n",
    "    def forward(self, x, skip):\n",
    "        # Combine with skip connection\n",
    "        x = torch.cat([x, skip], dim=1)\n",
    "        x = self.pixel_shuffle(x)\n",
    "        x = self.bottlenecks(x)\n",
    "        return x\n"
   ]
  },
  {
   "cell_type": "code",
   "execution_count": null,
   "id": "b7972c8d",
   "metadata": {},
   "outputs": [],
   "source": [
    "\n",
    "class OutputHead(nn.Module):\n",
    "    def __init__(self, in_channels, num_classes=1):\n",
    "        super().__init__()\n",
    "        self.conv = nn.Conv2d(in_channels, num_classes, 1)\n",
    "        self.softmax = nn.Softmax(dim=1) if num_classes > 1 else nn.Identity()\n",
    "    def forward(self, x):\n",
    "        return self.softmax(self.conv(x))\n"
   ]
  },
  {
   "cell_type": "code",
   "execution_count": null,
   "id": "b5f56566",
   "metadata": {},
   "outputs": [],
   "source": [
    "\n",
    "class FullModel(nn.Module):\n",
    "    def __init__(self):\n",
    "        super().__init__()\n",
    "        self.encoder = Encoder()\n",
    "        # Example for 4 decoder blocks\n",
    "        self.decoder1 = DecoderBlock(?, 24, 4, upscale=2)\n",
    "        self.decoder2 = DecoderBlock(?, 16, 3, upscale=2)\n",
    "        self.decoder3 = DecoderBlock(?, 8, 3, upscale=2)\n",
    "        self.decoder4 = DecoderBlock(?, 8, 2, upscale=2)\n",
    "        self.depth_heads = nn.ModuleList([\n",
    "            OutputHead(?, 1) for _ in range(4)\n",
    "        ])\n",
    "        self.seg_heads = nn.ModuleList([\n",
    "            OutputHead(?, 19) for _ in range(4)\n",
    "        ])\n",
    "    def forward(self, x):\n",
    "        x, skips = self.encoder(x)\n",
    "        dec1 = self.decoder1(x, skips)\n",
    "        dec2 = self.decoder2(dec1, skips[1])\n",
    "        dec3 = self.decoder3(dec2, skips[2])\n",
    "        dec4 = self.decoder4(dec3, skips)\n",
    "        depth_outputs = [head(d) for head, d in zip(self.depth_heads, [dec1, dec2, dec3, dec4])]\n",
    "        seg_outputs = [head(s) for head, s in zip(self.seg_heads, [dec1, dec2, dec3, dec4])]\n",
    "        return depth_outputs, seg_outputs\n"
   ]
  }
 ],
 "metadata": {
  "kernelspec": {
   "display_name": "IRL_AGV",
   "language": "python",
   "name": "python3"
  },
  "language_info": {
   "codemirror_mode": {
    "name": "ipython",
    "version": 3
   },
   "file_extension": ".py",
   "mimetype": "text/x-python",
   "name": "python",
   "nbconvert_exporter": "python",
   "pygments_lexer": "ipython3",
   "version": "3.10.16"
  }
 },
 "nbformat": 4,
 "nbformat_minor": 5
}
